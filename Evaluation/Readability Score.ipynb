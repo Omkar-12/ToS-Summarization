{
 "cells": [
  {
   "cell_type": "markdown",
   "id": "e12f205e-77a2-4f6a-8b95-92141bb6b2a6",
   "metadata": {},
   "source": [
    "# Readability Scores"
   ]
  },
  {
   "cell_type": "markdown",
   "id": "eea2e4dd-b921-4045-8128-02a8efa70ab3",
   "metadata": {},
   "source": [
    "There are many readability score available. Some of the them are as follows -\n",
    "<ol>\n",
    "    <li> Flesch-Kincaid: This score is useful when determining the grade level needed to understand a piece of text. It takes into account sentence length and word complexity, and provides a grade-level score. It can be useful for educational materials or wehn targeting a specific reading level.</li>\n",
    "    <li>Coleman-Liau: This score also provides a grade-level score but places greater emphasis on the length of the text and the number of characters per word. It can be useful for determining the reading level of technical or scientific writing.</li>\n",
    "    <li>Dale-Chall: This score is useful for identifying difficult words that may be challenging for readers. It uses a list of common words that are easy to understand and compares them to the text. This score is useful when creating materials for readers with limited vocabulary.</li>\n",
    "    <li>SMOG: This score is similar to the Flesch-Kincaid score, but it places greater emphasis on longer words. It can be useful for determining the reading level of technical or scientific writing.</li>\n",
    "    <li>Automated Readability Index: This score is useful for determining the reading level of general writing. It takes into account the length of the text and the number of words per sentence.</li>\n",
    "    <li>Flesch Reading Ease: This score is useful for determining the readability of general writing. It provides a score between 0 and 100, with higher scores indicating easier readability. </li>\n",
    "    <li>The Gunning fog formula: This score is useful for determining the reading level of general writing. It takes into account sentence length and the number of complex words used. </li>\n",
    "    <li>Fry readability graph: This score is useful for determining the reading level of children's books. It provides a graph that shows the readability level of the text.</li>\n",
    "    <li>The FORECAST formula: This score is useful for determining the reading level of technical or scientific writing. It takes into account sentence length, word complexity, and the number of syllables per word.</li>\n",
    "</ol>"
   ]
  },
  {
   "cell_type": "markdown",
   "id": "2c151f57-1e17-45dc-addf-8a0afed2f30f",
   "metadata": {},
   "source": [
    "From this we can conclude that to check the readability score for a technical document such as Terms of Service, the following scores can be used -\n",
    "<li>Flesch-Kincaid</li>\n",
    "<li>Automated Readability Index</li>\n",
    "<li>The Gunning fog formula</li>"
   ]
  },
  {
   "cell_type": "markdown",
   "id": "6d3a4154-5f03-4f74-b1ff-faef61f24899",
   "metadata": {},
   "source": [
    "We are using Flesch-Kincaid Readability Score."
   ]
  },
  {
   "cell_type": "code",
   "execution_count": 1,
   "id": "0486f8d0-d25a-4d76-a81f-478f241c5ca5",
   "metadata": {},
   "outputs": [],
   "source": [
    "import spacy\n",
    "from textstat.textstat import textstatistics\n",
    "from textstat import textstat\n",
    "import pandas as pd"
   ]
  },
  {
   "cell_type": "markdown",
   "id": "03f0906f-14e0-4638-85f1-6f862ed6765c",
   "metadata": {},
   "source": [
    "Generral steps to apply the formula:-\n",
    "<ul>\n",
    "    <li>Select several 100-word samples throughout the text. </li>\n",
    "    <li>Compute the average sentence length in words (divide the number of words by the number of sentences).</li> \n",
    "    <li>Compute the percentage of words NOT on the Dale–Chall word list of 3, 000 easy words.</li> \n",
    "    <li>Compute the respective equations</li> \n",
    "</ul> "
   ]
  },
  {
   "cell_type": "code",
   "execution_count": 2,
   "id": "6d8cd957-b222-497e-8de5-512f4fd60a4e",
   "metadata": {},
   "outputs": [],
   "source": [
    "def break_sentences(text):\n",
    "    nlp = spacy.load('en_core_web_sm')\n",
    "    doc = nlp(text)\n",
    "    return list(doc.sents)"
   ]
  },
  {
   "cell_type": "code",
   "execution_count": 3,
   "id": "fe51e32e-d34e-4748-a10d-c3b479b72e78",
   "metadata": {},
   "outputs": [],
   "source": [
    "def word_count(text):\n",
    "    sentences = break_sentences(text)\n",
    "    words = 0\n",
    "    for sentence in sentences:\n",
    "        words += len([token for token in sentence])\n",
    "    return words"
   ]
  },
  {
   "cell_type": "code",
   "execution_count": 4,
   "id": "98492431-6e1a-49ec-8bbe-c67a338a5542",
   "metadata": {},
   "outputs": [],
   "source": [
    "def sentence_count(text):\n",
    "    sentences = break_sentences(text)\n",
    "    return len(sentences)"
   ]
  },
  {
   "cell_type": "code",
   "execution_count": 5,
   "id": "eb50ec1a-0659-4edd-a8d8-938130fedd46",
   "metadata": {},
   "outputs": [],
   "source": [
    "def avg_sentence_length(text):\n",
    "    words = word_count(text)\n",
    "    sentences = sentence_count(text)\n",
    "    average_sentence_length = float(words / sentences)\n",
    "    return average_sentence_length"
   ]
  },
  {
   "cell_type": "code",
   "execution_count": 6,
   "id": "a7b48fc4-8e13-401d-b317-fc2f058809e7",
   "metadata": {},
   "outputs": [],
   "source": [
    "def syllables_count(word):\n",
    "    return textstatistics().syllable_count(word)"
   ]
  },
  {
   "cell_type": "code",
   "execution_count": 7,
   "id": "6115b18d-f6e0-4270-9e86-ed26b95543c7",
   "metadata": {},
   "outputs": [],
   "source": [
    "def difficult_words(text):\n",
    "     \n",
    "    nlp = spacy.load('en_core_web_sm')\n",
    "    doc = nlp(text)\n",
    "    \n",
    "    words = []\n",
    "    sentences = break_sentences(text)\n",
    "    for sentence in sentences:\n",
    "        words += [str(token) for token in sentence]\n",
    " \n",
    "    # difficult words are those with syllables >= 2 \n",
    "    # easy_word_set is provide by Textstat as a list of common words\n",
    "    diff_words_set = set()\n",
    "     \n",
    "    for word in words:\n",
    "        syllable_count = syllables_count(word)\n",
    "        if word not in nlp.Defaults.stop_words and syllable_count >= 2:\n",
    "            diff_words_set.add(word)\n",
    " \n",
    "    return len(diff_words_set)"
   ]
  },
  {
   "cell_type": "code",
   "execution_count": 8,
   "id": "b3491f64-b9cb-40f1-ba54-f57822ad596c",
   "metadata": {},
   "outputs": [],
   "source": [
    "# A word is polysyllablic if it has more than 3 syllables. \n",
    "def poly_syllable_count(text):\n",
    "    count = 0\n",
    "    words = []\n",
    "    sentences = break_sentences(text)\n",
    "    for sentence in sentences:\n",
    "        words += [token for token in sentence]\n",
    "     \n",
    " \n",
    "    for word in words:\n",
    "        syllable_count = syllables_count(word)\n",
    "        if syllable_count >= 3:\n",
    "            count += 1\n",
    "    return count"
   ]
  },
  {
   "cell_type": "markdown",
   "id": "3782b17b-66a5-4a7e-9d75-e6702776eb42",
   "metadata": {},
   "source": [
    "### Flesch-Kincaid Grade Level\n",
    "The U.S. Army uses Flesch-Kincaid Grade Level for assessing the difficulty of technical manuals. The commonwealth of Pennsylvania uses Flesch-Kincaid Grade Level for scoring automobile insurance policies to ensure their texts are no higher than a ninth grade level of reading difficulty. Many other U.S. states also use Flesch-Kincaid Grade Level to score other legal documents such as business policies and financial forms."
   ]
  },
  {
   "cell_type": "code",
   "execution_count": 14,
   "id": "046683ec-5d29-42e6-a8af-220bbbbee8b6",
   "metadata": {},
   "outputs": [],
   "source": [
    "def flesch_kincaid(text):\n",
    "    num_words = word_count(text)\n",
    "    num_sentences = sentence_count(text)\n",
    "    num_syllables = syllables_count(text)\n",
    "    score =  0.39 * (num_words / num_sentences) + 11.8 * (num_syllables / num_words) - 15.59\n",
    "    return score"
   ]
  },
  {
   "cell_type": "code",
   "execution_count": 15,
   "id": "04808f1c-bd1a-4bf6-af17-840c49041623",
   "metadata": {},
   "outputs": [
    {
     "name": "stdout",
     "output_type": "stream",
     "text": [
      "15.786021505376347 7.633846153846157\n"
     ]
    }
   ],
   "source": [
    "text1 = \"account termination policy youtube will terminate a user s access to the service if under appropriate circumstances the user is determined to be a repeat infringer. youtube reserves the right to decide whether content violates these terms of service for reasons other than copyright infringement such as but not limited to pornography obscenity or excessive length. youtube may at any time without prior notice and in its sole discretion remove such content and or terminate a user s account for submitting such material in violation of these terms of service.\"\n",
    "text2 = \"if you infringe copyright multiple times we close your account. if you are in violation of our community guidelines we may do that immediately.\"\n",
    "score_text1 = flesch_kincaid(text1)\n",
    "score_text2 = flesch_kincaid(text2)\n",
    "print(score_text1, score_text2)"
   ]
  },
  {
   "cell_type": "code",
   "execution_count": 11,
   "id": "e68f772d-f62b-434b-b16c-85e2bf5231d4",
   "metadata": {},
   "outputs": [],
   "source": [
    "def ARI(text):\n",
    "    num_chars = len(text)\n",
    "    num_words = word_count(text)\n",
    "    num_sentences = sentence_count(text)\n",
    "    score = 4.71 * (num_chars / num_words) + 0.5 * (num_words / num_chars) - 21.43\n",
    "    return score"
   ]
  },
  {
   "cell_type": "code",
   "execution_count": 12,
   "id": "af207473-a4ea-4b0f-b708-f9412d467212",
   "metadata": {},
   "outputs": [
    {
     "name": "stdout",
     "output_type": "stream",
     "text": [
      "7.014326036866358 4.565909090909091\n"
     ]
    }
   ],
   "source": [
    "text1 = \"account termination policy youtube will terminate a user s access to the service if under appropriate circumstances the user is determined to be a repeat infringer. youtube reserves the right to decide whether content violates these terms of service for reasons other than copyright infringement such as but not limited to pornography obscenity or excessive length. youtube may at any time without prior notice and in its sole discretion remove such content and or terminate a user s account for submitting such material in violation of these terms of service.\"\n",
    "text2 = \"if you infringe copyright multiple times we close your account. if you are in violation of our community guidelines we may do that immediately.\"\n",
    "score_text1 = ARI(text1)\n",
    "score_text2 = ARI(text2)\n",
    "print(score_text1, score_text2)"
   ]
  },
  {
   "cell_type": "code",
   "execution_count": 16,
   "id": "8248b007-3b95-42c6-82e0-28728e50306f",
   "metadata": {},
   "outputs": [],
   "source": [
    "def gunning_fog(text):\n",
    "    num_words = word_count(text)\n",
    "    num_sentences = sentence_count(text)\n",
    "    num_complex_words = difficult_words(text)\n",
    "    score = 0.4 * ((num_words / num_sentences) + 100 * (num_complex_words / num_words))\n",
    "    return score"
   ]
  },
  {
   "cell_type": "code",
   "execution_count": 17,
   "id": "320671ba-21e7-451b-96d0-3adb5cabf164",
   "metadata": {},
   "outputs": [
    {
     "name": "stdout",
     "output_type": "stream",
     "text": [
      "25.303225806451614 17.50769230769231\n"
     ]
    }
   ],
   "source": [
    "text1 = \"account termination policy youtube will terminate a user s access to the service if under appropriate circumstances the user is determined to be a repeat infringer. youtube reserves the right to decide whether content violates these terms of service for reasons other than copyright infringement such as but not limited to pornography obscenity or excessive length. youtube may at any time without prior notice and in its sole discretion remove such content and or terminate a user s account for submitting such material in violation of these terms of service.\"\n",
    "text2 = \"if you infringe copyright multiple times we close your account. if you are in violation of our community guidelines we may do that immediately.\"\n",
    "score_text1 = gunning_fog(text1)\n",
    "score_text2 = gunning_fog(text2)\n",
    "print(score_text1, score_text2)"
   ]
  },
  {
   "cell_type": "code",
   "execution_count": 20,
   "id": "84305d00-e45f-4cc0-bef9-4a7a93c487ae",
   "metadata": {},
   "outputs": [
    {
     "data": {
      "text/html": [
       "<div>\n",
       "<style scoped>\n",
       "    .dataframe tbody tr th:only-of-type {\n",
       "        vertical-align: middle;\n",
       "    }\n",
       "\n",
       "    .dataframe tbody tr th {\n",
       "        vertical-align: top;\n",
       "    }\n",
       "\n",
       "    .dataframe thead th {\n",
       "        text-align: right;\n",
       "    }\n",
       "</style>\n",
       "<table border=\"1\" class=\"dataframe\">\n",
       "  <thead>\n",
       "    <tr style=\"text-align: right;\">\n",
       "      <th></th>\n",
       "      <th>doc</th>\n",
       "      <th>id</th>\n",
       "      <th>original_text</th>\n",
       "      <th>reference_summary</th>\n",
       "      <th>title</th>\n",
       "      <th>uid</th>\n",
       "      <th>case_code</th>\n",
       "      <th>case_text</th>\n",
       "      <th>note</th>\n",
       "      <th>title_code</th>\n",
       "      <th>title_text</th>\n",
       "      <th>urls</th>\n",
       "      <th>tldr_code</th>\n",
       "      <th>tldr_text</th>\n",
       "    </tr>\n",
       "  </thead>\n",
       "  <tbody>\n",
       "    <tr>\n",
       "      <th>0</th>\n",
       "      <td>Pokemon GO Terms of Service</td>\n",
       "      <td>5786730a6cca83a54c0035b7</td>\n",
       "      <td>welcome to the pokémon go video game services ...</td>\n",
       "      <td>hi.</td>\n",
       "      <td>NaN</td>\n",
       "      <td>legalsum01</td>\n",
       "      <td>NaN</td>\n",
       "      <td>NaN</td>\n",
       "      <td>NaN</td>\n",
       "      <td>NaN</td>\n",
       "      <td>NaN</td>\n",
       "      <td>NaN</td>\n",
       "      <td>NaN</td>\n",
       "      <td>NaN</td>\n",
       "    </tr>\n",
       "    <tr>\n",
       "      <th>1</th>\n",
       "      <td>Pokemon GO Terms of Service</td>\n",
       "      <td>57866df76cca83a54c0035a1</td>\n",
       "      <td>by using our services you are agreeing to thes...</td>\n",
       "      <td>by playing this game you agree to these terms....</td>\n",
       "      <td>Agreement To Terms</td>\n",
       "      <td>legalsum02</td>\n",
       "      <td>NaN</td>\n",
       "      <td>NaN</td>\n",
       "      <td>NaN</td>\n",
       "      <td>NaN</td>\n",
       "      <td>NaN</td>\n",
       "      <td>NaN</td>\n",
       "      <td>NaN</td>\n",
       "      <td>NaN</td>\n",
       "    </tr>\n",
       "    <tr>\n",
       "      <th>2</th>\n",
       "      <td>Pokemon GO Terms of Service</td>\n",
       "      <td>5786730a6cca83a54c0035b6</td>\n",
       "      <td>if you want to use certain features of the ser...</td>\n",
       "      <td>you have to use google pokemon trainer club or...</td>\n",
       "      <td>Eligibility and Account Registration</td>\n",
       "      <td>legalsum03</td>\n",
       "      <td>NaN</td>\n",
       "      <td>NaN</td>\n",
       "      <td>NaN</td>\n",
       "      <td>NaN</td>\n",
       "      <td>NaN</td>\n",
       "      <td>NaN</td>\n",
       "      <td>NaN</td>\n",
       "      <td>NaN</td>\n",
       "    </tr>\n",
       "    <tr>\n",
       "      <th>3</th>\n",
       "      <td>Pokemon GO Terms of Service</td>\n",
       "      <td>57866df76cca83a54c0035a0</td>\n",
       "      <td>during game play please be aware of your surro...</td>\n",
       "      <td>don t die or hurt others and if you do it s no...</td>\n",
       "      <td>Safe Play</td>\n",
       "      <td>legalsum04</td>\n",
       "      <td>NaN</td>\n",
       "      <td>NaN</td>\n",
       "      <td>NaN</td>\n",
       "      <td>NaN</td>\n",
       "      <td>NaN</td>\n",
       "      <td>NaN</td>\n",
       "      <td>NaN</td>\n",
       "      <td>NaN</td>\n",
       "    </tr>\n",
       "    <tr>\n",
       "      <th>4</th>\n",
       "      <td>Pokemon GO Terms of Service</td>\n",
       "      <td>57866df76cca83a54c00359f</td>\n",
       "      <td>subject to your compliance with these terms ni...</td>\n",
       "      <td>don t copy modify resell distribute or reverse...</td>\n",
       "      <td>Rights in App</td>\n",
       "      <td>legalsum05</td>\n",
       "      <td>NaN</td>\n",
       "      <td>NaN</td>\n",
       "      <td>NaN</td>\n",
       "      <td>NaN</td>\n",
       "      <td>NaN</td>\n",
       "      <td>NaN</td>\n",
       "      <td>NaN</td>\n",
       "      <td>NaN</td>\n",
       "    </tr>\n",
       "  </tbody>\n",
       "</table>\n",
       "</div>"
      ],
      "text/plain": [
       "                           doc                        id  \\\n",
       "0  Pokemon GO Terms of Service  5786730a6cca83a54c0035b7   \n",
       "1  Pokemon GO Terms of Service  57866df76cca83a54c0035a1   \n",
       "2  Pokemon GO Terms of Service  5786730a6cca83a54c0035b6   \n",
       "3  Pokemon GO Terms of Service  57866df76cca83a54c0035a0   \n",
       "4  Pokemon GO Terms of Service  57866df76cca83a54c00359f   \n",
       "\n",
       "                                       original_text  \\\n",
       "0  welcome to the pokémon go video game services ...   \n",
       "1  by using our services you are agreeing to thes...   \n",
       "2  if you want to use certain features of the ser...   \n",
       "3  during game play please be aware of your surro...   \n",
       "4  subject to your compliance with these terms ni...   \n",
       "\n",
       "                                   reference_summary  \\\n",
       "0                                                hi.   \n",
       "1  by playing this game you agree to these terms....   \n",
       "2  you have to use google pokemon trainer club or...   \n",
       "3  don t die or hurt others and if you do it s no...   \n",
       "4  don t copy modify resell distribute or reverse...   \n",
       "\n",
       "                                  title         uid case_code case_text note  \\\n",
       "0                                   NaN  legalsum01       NaN       NaN  NaN   \n",
       "1                    Agreement To Terms  legalsum02       NaN       NaN  NaN   \n",
       "2  Eligibility and Account Registration  legalsum03       NaN       NaN  NaN   \n",
       "3                             Safe Play  legalsum04       NaN       NaN  NaN   \n",
       "4                         Rights in App  legalsum05       NaN       NaN  NaN   \n",
       "\n",
       "  title_code title_text urls tldr_code tldr_text  \n",
       "0        NaN        NaN  NaN       NaN       NaN  \n",
       "1        NaN        NaN  NaN       NaN       NaN  \n",
       "2        NaN        NaN  NaN       NaN       NaN  \n",
       "3        NaN        NaN  NaN       NaN       NaN  \n",
       "4        NaN        NaN  NaN       NaN       NaN  "
      ]
     },
     "execution_count": 20,
     "metadata": {},
     "output_type": "execute_result"
    }
   ],
   "source": [
    "df = pd.read_csv('Dataset/all_v1_transpose.csv')\n",
    "df.head()"
   ]
  },
  {
   "cell_type": "code",
   "execution_count": 21,
   "id": "b0ed2b83-376a-4a41-80ae-c5227e24820e",
   "metadata": {},
   "outputs": [
    {
     "data": {
      "text/html": [
       "<div>\n",
       "<style scoped>\n",
       "    .dataframe tbody tr th:only-of-type {\n",
       "        vertical-align: middle;\n",
       "    }\n",
       "\n",
       "    .dataframe tbody tr th {\n",
       "        vertical-align: top;\n",
       "    }\n",
       "\n",
       "    .dataframe thead th {\n",
       "        text-align: right;\n",
       "    }\n",
       "</style>\n",
       "<table border=\"1\" class=\"dataframe\">\n",
       "  <thead>\n",
       "    <tr style=\"text-align: right;\">\n",
       "      <th></th>\n",
       "      <th>original_text</th>\n",
       "      <th>reference_summary</th>\n",
       "    </tr>\n",
       "  </thead>\n",
       "  <tbody>\n",
       "    <tr>\n",
       "      <th>0</th>\n",
       "      <td>welcome to the pokémon go video game services ...</td>\n",
       "      <td>hi.</td>\n",
       "    </tr>\n",
       "    <tr>\n",
       "      <th>1</th>\n",
       "      <td>by using our services you are agreeing to thes...</td>\n",
       "      <td>by playing this game you agree to these terms....</td>\n",
       "    </tr>\n",
       "    <tr>\n",
       "      <th>2</th>\n",
       "      <td>if you want to use certain features of the ser...</td>\n",
       "      <td>you have to use google pokemon trainer club or...</td>\n",
       "    </tr>\n",
       "    <tr>\n",
       "      <th>3</th>\n",
       "      <td>during game play please be aware of your surro...</td>\n",
       "      <td>don t die or hurt others and if you do it s no...</td>\n",
       "    </tr>\n",
       "    <tr>\n",
       "      <th>4</th>\n",
       "      <td>subject to your compliance with these terms ni...</td>\n",
       "      <td>don t copy modify resell distribute or reverse...</td>\n",
       "    </tr>\n",
       "  </tbody>\n",
       "</table>\n",
       "</div>"
      ],
      "text/plain": [
       "                                       original_text  \\\n",
       "0  welcome to the pokémon go video game services ...   \n",
       "1  by using our services you are agreeing to thes...   \n",
       "2  if you want to use certain features of the ser...   \n",
       "3  during game play please be aware of your surro...   \n",
       "4  subject to your compliance with these terms ni...   \n",
       "\n",
       "                                   reference_summary  \n",
       "0                                                hi.  \n",
       "1  by playing this game you agree to these terms....  \n",
       "2  you have to use google pokemon trainer club or...  \n",
       "3  don t die or hurt others and if you do it s no...  \n",
       "4  don t copy modify resell distribute or reverse...  "
      ]
     },
     "execution_count": 21,
     "metadata": {},
     "output_type": "execute_result"
    }
   ],
   "source": [
    "to_drop = ['id', 'doc', 'title', 'uid', 'case_code', 'case_text', 'note', 'title_code', 'title_text', 'urls', 'tldr_code', 'tldr_text']\n",
    "df.drop(to_drop, axis = 1, inplace = True)\n",
    "df.head()"
   ]
  },
  {
   "cell_type": "code",
   "execution_count": null,
   "id": "dcc6afa1-290f-47d2-9f1f-680d0bc1bd54",
   "metadata": {},
   "outputs": [],
   "source": [
    "df['Original Text Score'] = df['original_text'].apply(flesch_kincaid)\n",
    "df['Reference Summary Score'] = df['reference_summary'].apply(flesch_kincaid)"
   ]
  },
  {
   "cell_type": "code",
   "execution_count": null,
   "id": "43e11b8a-2d58-4527-acda-7fe3b9698bbe",
   "metadata": {},
   "outputs": [],
   "source": []
  }
 ],
 "metadata": {
  "kernelspec": {
   "display_name": "minor",
   "language": "python",
   "name": "minor"
  },
  "language_info": {
   "codemirror_mode": {
    "name": "ipython",
    "version": 3
   },
   "file_extension": ".py",
   "mimetype": "text/x-python",
   "name": "python",
   "nbconvert_exporter": "python",
   "pygments_lexer": "ipython3",
   "version": "3.10.4"
  }
 },
 "nbformat": 4,
 "nbformat_minor": 5
}
